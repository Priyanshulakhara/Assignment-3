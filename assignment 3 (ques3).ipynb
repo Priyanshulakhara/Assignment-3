{
 "cells": [
  {
   "cell_type": "code",
   "execution_count": 5,
   "id": "a000c5d8",
   "metadata": {},
   "outputs": [
    {
     "name": "stdout",
     "output_type": "stream",
     "text": [
      "No. of Upper case characters : 3\n",
      "No. of Lower case Characters : 12\n"
     ]
    }
   ],
   "source": [
    "def upper_lower(a):\n",
    "    count_upper = 0\n",
    "    count_lower = 0\n",
    "    for i in a:\n",
    "        if i.isupper():\n",
    "            count_upper += 1\n",
    "        if i.islower():\n",
    "            count_lower += 1\n",
    "\n",
    "    print(\"No. of Upper case characters :\", count_upper)\n",
    "    print(\"No. of Lower case Characters :\", count_lower)\n",
    "\n",
    "\n",
    "upper_lower(\"The quick Brow Fox\")"
   ]
  },
  {
   "cell_type": "code",
   "execution_count": null,
   "id": "a580ae02",
   "metadata": {},
   "outputs": [],
   "source": []
  }
 ],
 "metadata": {
  "kernelspec": {
   "display_name": "Python 3 (ipykernel)",
   "language": "python",
   "name": "python3"
  },
  "language_info": {
   "codemirror_mode": {
    "name": "ipython",
    "version": 3
   },
   "file_extension": ".py",
   "mimetype": "text/x-python",
   "name": "python",
   "nbconvert_exporter": "python",
   "pygments_lexer": "ipython3",
   "version": "3.10.1"
  }
 },
 "nbformat": 4,
 "nbformat_minor": 5
}
